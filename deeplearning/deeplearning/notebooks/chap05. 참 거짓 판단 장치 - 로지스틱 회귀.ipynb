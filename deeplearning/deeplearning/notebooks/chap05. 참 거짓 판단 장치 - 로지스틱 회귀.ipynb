{
 "cells": [
  {
   "cell_type": "code",
   "execution_count": 1,
   "metadata": {},
   "outputs": [],
   "source": [
    "import numpy as np\n",
    "import pandas as pd\n",
    "import matplotlib as mpl\n",
    "import matplotlib.pyplot as plt\n",
    "from mpl_toolkits import mplot3d"
   ]
  },
  {
   "cell_type": "code",
   "execution_count": 2,
   "metadata": {},
   "outputs": [],
   "source": [
    "X = np.array([2, 4, 6, 8, 10, 12, 14])\n",
    "Y = np.array([0, 0, 0, 1, 1, 1, 1])"
   ]
  },
  {
   "cell_type": "code",
   "execution_count": 4,
   "metadata": {
    "collapsed": true
   },
   "outputs": [
    {
     "data": {
      "image/png": "[encoded data removed]",
      "text/plain": [
       "<Figure size 432x288 with 1 Axes>"
      ]
     },
     "metadata": {
      "needs_background": "light"
     },
     "output_type": "display_data"
    }
   ],
   "source": [
    "plt.scatter(X, Y)\n",
    "plt.grid()\n",
    "\n",
    "plt.show()"
   ]
  },
  {
   "cell_type": "code",
   "execution_count": 6,
   "metadata": {
    "collapsed": true
   },
   "outputs": [
    {
     "name": "stdout",
     "output_type": "stream",
     "text": [
      "0 0\n"
     ]
    }
   ],
   "source": [
    "# a, b = (0, 0)\n",
    "a, b = [0, 0]\n",
    "\n",
    "print(a, b)"
   ]
  },
  {
   "cell_type": "code",
   "execution_count": 7,
   "metadata": {
    "collapsed": true
   },
   "outputs": [
    {
     "name": "stdout",
     "output_type": "stream",
     "text": [
      "0 0\n",
      "1 1\n",
      "2 2\n",
      "3 3\n",
      "4 4\n"
     ]
    }
   ],
   "source": [
    "for x, y in [[0, 0], [1, 1], [2, 2], [3, 3], [4, 4]]:\n",
    "    print(x, y)"
   ]
  },
  {
   "cell_type": "code",
   "execution_count": 9,
   "metadata": {
    "collapsed": true
   },
   "outputs": [
    {
     "name": "stdout",
     "output_type": "stream",
     "text": [
      " 2,  0\n",
      " 4,  0\n",
      " 6,  0\n",
      " 8,  1\n",
      "10,  1\n",
      "12,  1\n",
      "14,  1\n"
     ]
    }
   ],
   "source": [
    "for x, y in zip(X, Y):\n",
    "    print('%2d, %2d' % (x, y))"
   ]
  },
  {
   "cell_type": "code",
   "execution_count": 20,
   "metadata": {},
   "outputs": [],
   "source": [
    "a, b = 0, 0\n",
    "lr = 0.05\n",
    "epochs = 2001"
   ]
  },
  {
   "cell_type": "code",
   "execution_count": 21,
   "metadata": {},
   "outputs": [],
   "source": [
    "def sigmoid(x):\n",
    "    return 1 / (1 + np.e ** (-x))"
   ]
  },
  {
   "cell_type": "code",
   "execution_count": 22,
   "metadata": {
    "collapsed": true
   },
   "outputs": [
    {
     "name": "stdout",
     "output_type": "stream",
     "text": [
      "epoch:    0, x:  2, a:  -0.0500, b:  -0.0250\n",
      "epoch:    0, x:  4, a:  -0.1388, b:  -0.0472\n",
      "epoch:    0, x:  6, a:  -0.2268, b:  -0.0619\n",
      "epoch:    0, x:  8, a:   0.1201, b:  -0.0185\n",
      "epoch:    0, x: 10, a:   0.2374, b:  -0.0068\n",
      "epoch:    0, x: 12, a:   0.2705, b:  -0.0040\n",
      "epoch:    0, x: 14, a:   0.2860, b:  -0.0029\n",
      "epoch: 1000, x:  2, a:   1.4978, b:  -9.9401\n",
      "epoch: 1000, x:  4, a:   1.4940, b:  -9.9411\n",
      "epoch: 1000, x:  6, a:   1.4120, b:  -9.9547\n",
      "epoch: 1000, x:  8, a:   1.4949, b:  -9.9444\n",
      "epoch: 1000, x: 10, a:   1.4982, b:  -9.9440\n",
      "epoch: 1000, x: 12, a:   1.4984, b:  -9.9440\n",
      "epoch: 1000, x: 14, a:   1.4985, b:  -9.9440\n",
      "epoch: 2000, x:  2, a:   1.9065, b: -12.9489\n",
      "epoch: 2000, x:  4, a:   1.9055, b: -12.9491\n",
      "epoch: 2000, x:  6, a:   1.8515, b: -12.9581\n",
      "epoch: 2000, x:  8, a:   1.9057, b: -12.9514\n",
      "epoch: 2000, x: 10, a:   1.9068, b: -12.9513\n",
      "epoch: 2000, x: 12, a:   1.9068, b: -12.9513\n",
      "epoch: 2000, x: 14, a:   1.9068, b: -12.9513\n"
     ]
    }
   ],
   "source": [
    "for i in range(epochs):\n",
    "    for x, y in zip(X, Y):\n",
    "        a_diff = x * (sigmoid(a * x + b) - y)\n",
    "        b_diff = sigmoid(a * x + b) - y\n",
    "        \n",
    "        a = a - lr * a_diff\n",
    "        b = b - lr * b_diff\n",
    "        \n",
    "        if i % 1000 == 0:\n",
    "            print('epoch: %4d, x: %2d, a: %8.4f, b: %8.4f' % (i, x, a, b))"
   ]
  },
  {
   "cell_type": "code",
   "execution_count": 19,
   "metadata": {},
   "outputs": [
    {
     "name": "stdout",
     "output_type": "stream",
     "text": [
      "a:   1.9068, b: -12.9513\n"
     ]
    }
   ],
   "source": [
    "print('a: %8.4f, b: %8.4f' % (a, b))"
   ]
  },
  {
   "cell_type": "code",
   "execution_count": null,
   "metadata": {},
   "outputs": [],
   "source": [
    "'''\n",
    "문제1] 위의 경사하강법을 적용한 결과를 이용하여 예측값을 출력하는 코드를 작성하세요.\n",
    "'''"
   ]
  },
  {
   "cell_type": "code",
   "execution_count": 25,
   "metadata": {
    "collapsed": true
   },
   "outputs": [
    {
     "name": "stdout",
     "output_type": "stream",
     "text": [
      "실제값: [0 0 0 1 1 1 1]\n",
      "예측값: [0.00010752874730640028, 0.004849415540171216, 0.18087552663081788, 0.9091402249431002, 0.9977993312175377, 0.9999513300357458, 0.9999989258810245]\n"
     ]
    }
   ],
   "source": [
    "Y_pred = []\n",
    "\n",
    "for x in X:\n",
    "    Y_pred.append(sigmoid(a * x + b))\n",
    "    \n",
    "print('실제값:', Y)\n",
    "print('예측값:', Y_pred)"
   ]
  },
  {
   "cell_type": "code",
   "execution_count": 27,
   "metadata": {},
   "outputs": [
    {
     "data": {
      "image/png": "[encoded data removed]",
      "text/plain": [
       "<Figure size 432x288 with 1 Axes>"
      ]
     },
     "metadata": {
      "needs_background": "light"
     },
     "output_type": "display_data"
    }
   ],
   "source": [
    "'''\n",
    "문제2] 다음 그래프 위에 S 자 모양의 시그모이드 함수 그래프를 출력하는 코드를 작성하세요.\n",
    "'''\n",
    "\n",
    "plt.scatter(X, Y)\n",
    "plt.plot(X, Y_pred)\n",
    "plt.grid()\n",
    "\n",
    "plt.show()"
   ]
  },
  {
   "cell_type": "code",
   "execution_count": 30,
   "metadata": {},
   "outputs": [
    {
     "data": {
      "image/png": "[encoded data removed]",
      "text/plain": [
       "<Figure size 432x288 with 1 Axes>"
      ]
     },
     "metadata": {
      "needs_background": "light"
     },
     "output_type": "display_data"
    }
   ],
   "source": [
    "X_temp = np.arange(2, 14.1, 0.1)\n",
    "Y_temp = []\n",
    "\n",
    "for x in X_temp:\n",
    "    Y_temp.append(sigmoid(a * x + b))\n",
    "    \n",
    "plt.scatter(X, Y)\n",
    "plt.plot(X_temp, Y_temp)\n",
    "# plt.grid()\n",
    "\n",
    "plt.show()"
   ]
  },
  {
   "cell_type": "code",
   "execution_count": null,
   "metadata": {},
   "outputs": [],
   "source": []
  }
 ],
 "metadata": {
  "kernelspec": {
   "display_name": "Python 3",
   "language": "python",
   "name": "python3"
  },
  "language_info": {
   "codemirror_mode": {
    "name": "ipython",
    "version": 3
   },
   "file_extension": ".py",
   "mimetype": "text/x-python",
   "name": "python",
   "nbconvert_exporter": "python",
   "pygments_lexer": "ipython3",
   "version": "3.7.6"
  }
 },
 "nbformat": 4,
 "nbformat_minor": 4
}
