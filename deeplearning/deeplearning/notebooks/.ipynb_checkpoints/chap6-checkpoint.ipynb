{
 "cells": [
  {
   "cell_type": "code",
   "execution_count": 1,
   "metadata": {},
   "outputs": [],
   "source": [
    "\n",
    "#단순 퍼셉트론 구현\n",
    "\n",
    "\n",
    "X1 = [0,0,1,1]\n",
    "X2 = [0,1,0,1]\n",
    "\n"
   ]
  },
  {
   "cell_type": "code",
   "execution_count": 12,
   "metadata": {},
   "outputs": [],
   "source": [
    "\n",
    "def OR(x1, x2):\n",
    "    w1, w2 = 1, 2\n",
    "    b = -1\n",
    "    \n",
    "    ws = w1 * x1 + w2 * x2 +b\n",
    "    \n",
    "    if(ws>=0):\n",
    "        return 1\n",
    "    \n",
    "    return 0"
   ]
  },
  {
   "cell_type": "code",
   "execution_count": 13,
   "metadata": {},
   "outputs": [
    {
     "name": "stdout",
     "output_type": "stream",
     "text": [
      "0 0 0\n",
      "0 1 1\n",
      "1 0 1\n",
      "1 1 1\n"
     ]
    }
   ],
   "source": [
    "\n",
    "\n",
    "for x1, x2 in zip(X1, X2):\n",
    "    print(x1,x2, OR(x1, x2))"
   ]
  },
  {
   "cell_type": "code",
   "execution_count": 27,
   "metadata": {},
   "outputs": [],
   "source": [
    "def NAND(x1, x2):\n",
    "    w1, w2 = -1, -2\n",
    "    b = 2\n",
    "    \n",
    "    ws = w1 * x1 + w2 * x2 +b\n",
    "    \n",
    "    if(ws>=0):\n",
    "        return 1\n",
    "    \n",
    "    return 0"
   ]
  },
  {
   "cell_type": "code",
   "execution_count": 28,
   "metadata": {},
   "outputs": [
    {
     "name": "stdout",
     "output_type": "stream",
     "text": [
      "0 0 1\n",
      "0 1 1\n",
      "1 0 1\n",
      "1 1 0\n"
     ]
    }
   ],
   "source": [
    "for x1, x2 in zip(X1, X2):\n",
    "    print(x1,x2, NAND(x1, x2))"
   ]
  }
 ],
 "metadata": {
  "kernelspec": {
   "display_name": "Python 3",
   "language": "python",
   "name": "python3"
  },
  "language_info": {
   "codemirror_mode": {
    "name": "ipython",
    "version": 3
   },
   "file_extension": ".py",
   "mimetype": "text/x-python",
   "name": "python",
   "nbconvert_exporter": "python",
   "pygments_lexer": "ipython3",
   "version": "3.7.6"
  }
 },
 "nbformat": 4,
 "nbformat_minor": 4
}
