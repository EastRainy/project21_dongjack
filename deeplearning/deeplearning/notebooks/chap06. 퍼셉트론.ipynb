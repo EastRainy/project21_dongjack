{
 "cells": [
  {
   "cell_type": "code",
   "execution_count": null,
   "metadata": {},
   "outputs": [],
   "source": [
    "'''\n",
    "### 단순 퍼셉트론을 활용한 AND Gate 구현 - Step1 ###\n",
    "\n",
    "x1  x2  AND\n",
    "=== === ===\n",
    " 0   0   0\n",
    " 0   1   0\n",
    " 1   0   0\n",
    " 1   1   1\n",
    "\n",
    "    w1 * x1 + w2 * x2 >= theta\n",
    "    ===========================\n",
    "    위 계산식이 참이면 1을, 거짓이면 0을 반환하는 경우 AND 연산의 결과와 동일한 결과를 나타내는\n",
    "    w1, w2, theta 는 무엇인지 생각해보고 답하세요.\n",
    "    \n",
    "    w1: 1, w2: 2, theta: 3\n",
    "    ----------------------\n",
    "    1 * 0 + 2 * 0 >= 3   F\n",
    "    1 * 0 + 2 * 1 >= 3   F\n",
    "    1 * 1 + 2 * 0 >= 3   F\n",
    "    1 * 1 + 2 * 1 >= 3   T\n",
    "    \n",
    "    w1: 0.5, w2: 0.5, theta: 0.7\n",
    "    ----------------------\n",
    "    0.5 * 0 + 0.5 * 0 >= 0.7   F\n",
    "    0.5 * 0 + 0.5 * 1 >= 0.7   F\n",
    "    0.5 * 1 + 0.5 * 0 >= 0.7   F\n",
    "    0.5 * 1 + 0.5 * 1 >= 0.7   T\n",
    "'''"
   ]
  },
  {
   "cell_type": "code",
   "execution_count": 1,
   "metadata": {},
   "outputs": [],
   "source": [
    "def AND(x1, x2):\n",
    "    w1, w2 = 0.5, 0.5\n",
    "    theta = 0.7\n",
    "    \n",
    "    ws = w1 * x1 + w2 * x2\n",
    "    \n",
    "    if ws >= theta:\n",
    "        return 1\n",
    "    \n",
    "    return 0"
   ]
  },
  {
   "cell_type": "code",
   "execution_count": 3,
   "metadata": {},
   "outputs": [
    {
     "name": "stdout",
     "output_type": "stream",
     "text": [
      "AND(0, 0) = 0\n",
      "AND(0, 1) = 0\n",
      "AND(1, 0) = 0\n",
      "AND(1, 1) = 1\n"
     ]
    }
   ],
   "source": [
    "X1 = [0, 0, 1, 1]\n",
    "X2 = [0, 1, 0, 1]\n",
    "\n",
    "for x1, x2 in zip(X1, X2):\n",
    "    print('AND(%d, %d) = %d' % (x1, x2, AND(x1, x2)))"
   ]
  },
  {
   "cell_type": "code",
   "execution_count": null,
   "metadata": {},
   "outputs": [],
   "source": [
    "'''\n",
    "### 단순 퍼셉트론을 활용한 AND Gate 구현 - Step2 ###\n",
    "\n",
    "x1  x2  AND\n",
    "=== === ===\n",
    " 0   0   0\n",
    " 0   1   0\n",
    " 1   0   0\n",
    " 1   1   1\n",
    "\n",
    "    w1 * x1 + w2 * x2 >= theta\n",
    "    w1 * x1 + w2 * x2 - theta >= 0\n",
    "    \n",
    "    -theta 를 bias(편향)이라고 할 수 있다!!!\n",
    "    w1 * x1 + w2 * x2 + b >= 0\n",
    "    ===========================\n",
    "    위 계산식이 참이면 1을, 거짓이면 0을 반환하는 경우 AND 연산의 결과와 동일한 결과를 나타내는\n",
    "    코드를 작성하세요.\n",
    "'''"
   ]
  },
  {
   "cell_type": "code",
   "execution_count": 4,
   "metadata": {},
   "outputs": [],
   "source": [
    "def AND(x1, x2):\n",
    "    w1, w2 = 0.5, 0.5\n",
    "    b = -0.7\n",
    "    \n",
    "    ws = w1 * x1 + w2 * x2 + b\n",
    "    \n",
    "    if ws >= 0:\n",
    "        return 1\n",
    "    \n",
    "    return 0"
   ]
  },
  {
   "cell_type": "code",
   "execution_count": 5,
   "metadata": {
    "collapsed": true
   },
   "outputs": [
    {
     "name": "stdout",
     "output_type": "stream",
     "text": [
      "AND(0, 0) = 0\n",
      "AND(0, 1) = 0\n",
      "AND(1, 0) = 0\n",
      "AND(1, 1) = 1\n"
     ]
    }
   ],
   "source": [
    "X1 = [0, 0, 1, 1]\n",
    "X2 = [0, 1, 0, 1]\n",
    "\n",
    "for x1, x2 in zip(X1, X2):\n",
    "    print('AND(%d, %d) = %d' % (x1, x2, AND(x1, x2)))"
   ]
  },
  {
   "cell_type": "code",
   "execution_count": null,
   "metadata": {},
   "outputs": [],
   "source": [
    "'''\n",
    "문제] 단순 퍼셉트론을 이용하여 OR, NAND 게이트를 구현하는 코드를 작성하세요.\n",
    "\n",
    "x1  x2  AND  OR  NAND\n",
    "=== === === ==== ====\n",
    " 0   0   0   0    1\n",
    " 0   1   0   1    1\n",
    " 1   0   0   1    1\n",
    " 1   1   1   1    0\n",
    "'''"
   ]
  },
  {
   "cell_type": "code",
   "execution_count": 1,
   "metadata": {},
   "outputs": [],
   "source": [
    "def OR(X1, x2):\n",
    "    w1, w2 = 0.5, 0.5\n",
    "    b = -0.2\n",
    "    \n",
    "    ws = w1 * x1 + w2 * x2 + b\n",
    "    \n",
    "    if ws >= 0:\n",
    "        return 1\n",
    "    \n",
    "    return 0"
   ]
  },
  {
   "cell_type": "code",
   "execution_count": 2,
   "metadata": {},
   "outputs": [
    {
     "name": "stdout",
     "output_type": "stream",
     "text": [
      "OR(0, 0) = 0\n",
      "OR(0, 1) = 0\n",
      "OR(1, 0) = 0\n",
      "OR(1, 1) = 1\n"
     ]
    }
   ],
   "source": [
    "X1 = [0, 0, 1, 1]\n",
    "X2 = [0, 1, 0, 1]\n",
    "\n",
    "for x1, x2 in zip(X1, X2):\n",
    "    print('OR(%d, %d) = %d' % (x1, x2, OR(x1, x2)))"
   ]
  },
  {
   "cell_type": "code",
   "execution_count": 3,
   "metadata": {},
   "outputs": [],
   "source": [
    "def NAND(x1, x2):\n",
    "    w1, w2 = -0.5, -0.5\n",
    "    b = 0.7\n",
    "    \n",
    "    ws = w1 * x1 + w2 * x2 + b\n",
    "    \n",
    "    if ws >= 0:\n",
    "        return 1\n",
    "    \n",
    "    return 0"
   ]
  },
  {
   "cell_type": "code",
   "execution_count": 4,
   "metadata": {},
   "outputs": [
    {
     "name": "stdout",
     "output_type": "stream",
     "text": [
      "NAND(0, 0) = 1\n",
      "NAND(0, 1) = 1\n",
      "NAND(1, 0) = 1\n",
      "NAND(1, 1) = 0\n"
     ]
    }
   ],
   "source": [
    "X1 = [0, 0, 1, 1]\n",
    "X2 = [0, 1, 0, 1]\n",
    "\n",
    "for x1, x2 in zip(X1, X2):\n",
    "    print('NAND(%d, %d) = %d' % (x1, x2, NAND(x1, x2)))"
   ]
  },
  {
   "cell_type": "code",
   "execution_count": null,
   "metadata": {},
   "outputs": [],
   "source": [
    "'''\n",
    "문제] AND, OR, NAND 함수를 통합하는 GATE 함수를 생성하고 AND, OR, NAND 연산을 수행한 결과를 출력하는\n",
    "        코드를 작성하세요.\n",
    "'''"
   ]
  },
  {
   "cell_type": "code",
   "execution_count": 5,
   "metadata": {},
   "outputs": [],
   "source": [
    "def GATE(x1, x2, w1, w2, b):    \n",
    "    ws = w1 * x1 + w2 * x2 + b\n",
    "    \n",
    "    if ws >= 0:\n",
    "        return 1\n",
    "    \n",
    "    return 0"
   ]
  },
  {
   "cell_type": "code",
   "execution_count": 7,
   "metadata": {
    "collapsed": true
   },
   "outputs": [
    {
     "name": "stdout",
     "output_type": "stream",
     "text": [
      "AND(0, 0) = 0\n",
      "AND(0, 1) = 0\n",
      "AND(1, 0) = 0\n",
      "AND(1, 1) = 1\n"
     ]
    }
   ],
   "source": [
    "X1 = [0, 0, 1, 1]\n",
    "X2 = [0, 1, 0, 1]\n",
    "w1, w2 = 0.5, 0.5\n",
    "b = -0.7\n",
    "\n",
    "for x1, x2 in zip(X1, X2):\n",
    "    print('AND(%d, %d) = %d' % (x1, x2, GATE(x1, x2, w1, w2, b)))"
   ]
  },
  {
   "cell_type": "code",
   "execution_count": 8,
   "metadata": {
    "collapsed": true
   },
   "outputs": [
    {
     "name": "stdout",
     "output_type": "stream",
     "text": [
      "OR(0, 0) = 0\n",
      "OR(0, 1) = 1\n",
      "OR(1, 0) = 1\n",
      "OR(1, 1) = 1\n"
     ]
    }
   ],
   "source": [
    "w1, w2 = 0.5, 0.5\n",
    "b = -0.2\n",
    "\n",
    "for x1, x2 in zip(X1, X2):\n",
    "    print('OR(%d, %d) = %d' % (x1, x2, GATE(x1, x2, w1, w2, b)))"
   ]
  },
  {
   "cell_type": "code",
   "execution_count": 9,
   "metadata": {
    "collapsed": true
   },
   "outputs": [
    {
     "name": "stdout",
     "output_type": "stream",
     "text": [
      "NAND(0, 0) = 1\n",
      "NAND(0, 1) = 1\n",
      "NAND(1, 0) = 1\n",
      "NAND(1, 1) = 0\n"
     ]
    }
   ],
   "source": [
    "w1, w2 = -0.5, -0.5\n",
    "b = 0.7\n",
    "\n",
    "for x1, x2 in zip(X1, X2):\n",
    "    print('NAND(%d, %d) = %d' % (x1, x2, GATE(x1, x2, w1, w2, b)))"
   ]
  },
  {
   "cell_type": "code",
   "execution_count": 16,
   "metadata": {},
   "outputs": [
    {
     "data": {
      "text/plain": [
       "array([-0.2])"
      ]
     },
     "execution_count": 16,
     "metadata": {},
     "output_type": "execute_result"
    }
   ],
   "source": [
    "# NUMPY 기반의 연산\n",
    "\n",
    "import numpy as np\n",
    "\n",
    "x = np.array([1, 0])\n",
    "w = np.array([0.5, 0.5])\n",
    "b = np.array([-0.7])\n",
    "\n",
    "(x * w).sum() + b"
   ]
  },
  {
   "cell_type": "code",
   "execution_count": 22,
   "metadata": {},
   "outputs": [],
   "source": [
    "x = np.array([[0, 0], [0, 1], [1, 0], [1, 1]])\n",
    "w = np.array([[0.5, 0.5], [0.5, 0.5], [-0.5, -0.5]])\n",
    "b = np.array([-0.7, -0.2, 0.7])"
   ]
  },
  {
   "cell_type": "code",
   "execution_count": 23,
   "metadata": {
    "collapsed": true
   },
   "outputs": [
    {
     "name": "stdout",
     "output_type": "stream",
     "text": [
      "False\n",
      "False\n",
      "False\n",
      "True\n"
     ]
    }
   ],
   "source": [
    "print((x[0] * w[0]).sum() + b[0] >= 0)\n",
    "print((x[1] * w[0]).sum() + b[0] >= 0)\n",
    "print((x[2] * w[0]).sum() + b[0] >= 0)\n",
    "print((x[3] * w[0]).sum() + b[0] >= 0)"
   ]
  },
  {
   "cell_type": "code",
   "execution_count": 24,
   "metadata": {
    "collapsed": true
   },
   "outputs": [
    {
     "name": "stdout",
     "output_type": "stream",
     "text": [
      "False\n",
      "True\n",
      "True\n",
      "True\n"
     ]
    }
   ],
   "source": [
    "print((x[0] * w[1]).sum() + b[1] >= 0)\n",
    "print((x[1] * w[1]).sum() + b[1] >= 0)\n",
    "print((x[2] * w[1]).sum() + b[1] >= 0)\n",
    "print((x[3] * w[1]).sum() + b[1] >= 0)"
   ]
  },
  {
   "cell_type": "code",
   "execution_count": 26,
   "metadata": {},
   "outputs": [
    {
     "name": "stdout",
     "output_type": "stream",
     "text": [
      "0.7\n",
      "True\n",
      "True\n",
      "False\n"
     ]
    }
   ],
   "source": [
    "print((x[0] * w[2]).sum() + b[2] >= 0)\n",
    "print((x[1] * w[2]).sum() + b[2] >= 0)\n",
    "print((x[2] * w[2]).sum() + b[2] >= 0)\n",
    "print((x[3] * w[2]).sum() + b[2] >= 0)"
   ]
  },
  {
   "cell_type": "code",
   "execution_count": 27,
   "metadata": {},
   "outputs": [],
   "source": [
    "def GATE(x, w, b):    \n",
    "    ws = (x * w).sum() + b\n",
    "    \n",
    "    if ws >= 0:\n",
    "        return 1\n",
    "    \n",
    "    return 0"
   ]
  },
  {
   "cell_type": "code",
   "execution_count": 29,
   "metadata": {
    "collapsed": true
   },
   "outputs": [
    {
     "name": "stdout",
     "output_type": "stream",
     "text": [
      "AND(0, 0) = 0\n",
      "AND(0, 1) = 0\n",
      "AND(1, 0) = 0\n",
      "AND(1, 1) = 1\n"
     ]
    }
   ],
   "source": [
    "x_data = np.array([[0, 0], [0, 1], [1, 0], [1, 1]])\n",
    "w = np.array([[0.5, 0.5], [0.5, 0.5], [-0.5, -0.5]])\n",
    "b = np.array([-0.7, -0.2, 0.7])\n",
    "\n",
    "for x in x_data:\n",
    "    print('AND(%d, %d) = %d' % (x[0], x[1], GATE(x, w[0], b[0])))"
   ]
  },
  {
   "cell_type": "code",
   "execution_count": 30,
   "metadata": {
    "collapsed": true
   },
   "outputs": [
    {
     "name": "stdout",
     "output_type": "stream",
     "text": [
      "OR(0, 0) = 0\n",
      "OR(0, 1) = 1\n",
      "OR(1, 0) = 1\n",
      "OR(1, 1) = 1\n"
     ]
    }
   ],
   "source": [
    "for x in x_data:\n",
    "    print('OR(%d, %d) = %d' % (x[0], x[1], GATE(x, w[1], b[1])))"
   ]
  },
  {
   "cell_type": "code",
   "execution_count": 31,
   "metadata": {
    "collapsed": true
   },
   "outputs": [
    {
     "name": "stdout",
     "output_type": "stream",
     "text": [
      "NAND(0, 0) = 1\n",
      "NAND(0, 1) = 1\n",
      "NAND(1, 0) = 1\n",
      "NAND(1, 1) = 0\n"
     ]
    }
   ],
   "source": [
    "for x in x_data:\n",
    "    print('NAND(%d, %d) = %d' % (x[0], x[1], GATE(x, w[2], b[2])))"
   ]
  },
  {
   "cell_type": "code",
   "execution_count": null,
   "metadata": {},
   "outputs": [],
   "source": []
  }
 ],
 "metadata": {
  "kernelspec": {
   "display_name": "Python 3",
   "language": "python",
   "name": "python3"
  },
  "language_info": {
   "codemirror_mode": {
    "name": "ipython",
    "version": 3
   },
   "file_extension": ".py",
   "mimetype": "text/x-python",
   "name": "python",
   "nbconvert_exporter": "python",
   "pygments_lexer": "ipython3",
   "version": "3.7.6"
  }
 },
 "nbformat": 4,
 "nbformat_minor": 4
}
