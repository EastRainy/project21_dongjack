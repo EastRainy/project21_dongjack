{
 "cells": [
  {
   "cell_type": "code",
   "execution_count": 1,
   "metadata": {},
   "outputs": [],
   "source": [
    "import numpy as np"
   ]
  },
  {
   "cell_type": "code",
   "execution_count": 2,
   "metadata": {},
   "outputs": [],
   "source": [
    "def GATE(x, w, b):    \n",
    "    ws = (x * w).sum() + b\n",
    "    \n",
    "    if ws >= 0:\n",
    "        return 1\n",
    "    \n",
    "    return 0"
   ]
  },
  {
   "cell_type": "code",
   "execution_count": 7,
   "metadata": {},
   "outputs": [],
   "source": [
    "x_data = np.array([[0, 0], [0, 1], [1, 0], [1, 1]])\n",
    "w = np.array([[-0.5, -0.5], [0.5, 0.5], [0.5, 0.5]])\n",
    "b = np.array([0.7, -0.2, -0.7])"
   ]
  },
  {
   "cell_type": "code",
   "execution_count": null,
   "metadata": {},
   "outputs": [],
   "source": [
    "'''\n",
    "문제] GATE 함수와 x_data, w, b 를 이용하여 XOR 문제를 해결하는 코드를 작성하세요.\n",
    "'''"
   ]
  },
  {
   "cell_type": "code",
   "execution_count": 11,
   "metadata": {},
   "outputs": [
    {
     "name": "stdout",
     "output_type": "stream",
     "text": [
      "x1: 0, x2: 0, n1: 1, n2: 0, y_out: 0\n",
      "x1: 0, x2: 1, n1: 1, n2: 1, y_out: 1\n",
      "x1: 1, x2: 0, n1: 1, n2: 1, y_out: 1\n",
      "x1: 1, x2: 1, n1: 0, n2: 1, y_out: 0\n"
     ]
    }
   ],
   "source": [
    "for x in x_data:\n",
    "    n1 = GATE(x, w[0], b[0])\n",
    "    n2 = GATE(x, w[1], b[1])\n",
    "    n = np.array([n1, n2])\n",
    "    y_out = GATE(n, w[2], b[2])\n",
    "    \n",
    "    print('x1: {}, x2: {}, n1: {}, n2: {}, y_out: {}'.format(x[0], x[1], n1, n2, y_out))"
   ]
  },
  {
   "cell_type": "code",
   "execution_count": 12,
   "metadata": {},
   "outputs": [
    {
     "name": "stdout",
     "output_type": "stream",
     "text": [
      "NAND(0, 0) = 1\n",
      "NAND(0, 1) = 1\n",
      "NAND(1, 0) = 1\n",
      "NAND(1, 1) = 0\n"
     ]
    }
   ],
   "source": [
    "x_data = np.array([[0, 0], [0, 1], [1, 0], [1, 1]])\n",
    "w = np.array([[-0.5, -0.5], [0.5, 0.5], [0.5, 0.5]])\n",
    "b = np.array([0.7, -0.2, -0.7])\n",
    "\n",
    "for x in x_data:\n",
    "    print('NAND({}, {}) = {}'.format(x[0], x[1], GATE(x, w[0], b[0])))"
   ]
  },
  {
   "cell_type": "code",
   "execution_count": 13,
   "metadata": {},
   "outputs": [
    {
     "name": "stdout",
     "output_type": "stream",
     "text": [
      "OR(0, 0) = 0\n",
      "OR(0, 1) = 1\n",
      "OR(1, 0) = 1\n",
      "OR(1, 1) = 1\n"
     ]
    }
   ],
   "source": [
    "for x in x_data:\n",
    "    print('OR({}, {}) = {}'.format(x[0], x[1], GATE(x, w[1], b[1])))"
   ]
  },
  {
   "cell_type": "code",
   "execution_count": 14,
   "metadata": {},
   "outputs": [
    {
     "name": "stdout",
     "output_type": "stream",
     "text": [
      "AND(0, 0) = 0\n",
      "AND(0, 1) = 0\n",
      "AND(1, 0) = 0\n",
      "AND(1, 1) = 1\n"
     ]
    }
   ],
   "source": [
    "for x in x_data:\n",
    "    print('AND({}, {}) = {}'.format(x[0], x[1], GATE(x, w[2], b[2])))"
   ]
  },
  {
   "cell_type": "code",
   "execution_count": 15,
   "metadata": {},
   "outputs": [
    {
     "name": "stdout",
     "output_type": "stream",
     "text": [
      "x1: 0, x2: 0, n1: 1, n2: 0, y_out: 0\n",
      "x1: 0, x2: 1, n1: 1, n2: 1, y_out: 1\n",
      "x1: 1, x2: 0, n1: 1, n2: 1, y_out: 1\n",
      "x1: 1, x2: 1, n1: 0, n2: 1, y_out: 0\n"
     ]
    }
   ],
   "source": [
    "for x in x_data:\n",
    "    n1 = GATE(x, w[0], b[0])\n",
    "    n2 = GATE(x, w[1], b[1])\n",
    "    n = np.array([n1, n2])\n",
    "    y_out = GATE(n, w[2], b[2])\n",
    "    \n",
    "    print('x1: {}, x2: {}, n1: {}, n2: {}, y_out: {}'.format(x[0], x[1], n1, n2, y_out))"
   ]
  },
  {
   "cell_type": "code",
   "execution_count": null,
   "metadata": {},
   "outputs": [],
   "source": []
  }
 ],
 "metadata": {
  "kernelspec": {
   "display_name": "Python 3",
   "language": "python",
   "name": "python3"
  },
  "language_info": {
   "codemirror_mode": {
    "name": "ipython",
    "version": 3
   },
   "file_extension": ".py",
   "mimetype": "text/x-python",
   "name": "python",
   "nbconvert_exporter": "python",
   "pygments_lexer": "ipython3",
   "version": "3.7.6"
  }
 },
 "nbformat": 4,
 "nbformat_minor": 4
}
