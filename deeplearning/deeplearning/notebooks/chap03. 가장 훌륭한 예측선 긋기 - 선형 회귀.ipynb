{
 "cells": [
  {
   "cell_type": "code",
   "execution_count": 1,
   "metadata": {},
   "outputs": [],
   "source": [
    "import numpy as np\n",
    "import pandas as pd\n",
    "import matplotlib as mpl\n",
    "import matplotlib.pyplot as plt"
   ]
  },
  {
   "cell_type": "code",
   "execution_count": 2,
   "metadata": {},
   "outputs": [],
   "source": [
    "x = [2, 4, 6, 8]\n",
    "y = [81, 93, 91, 97]"
   ]
  },
  {
   "cell_type": "code",
   "execution_count": 3,
   "metadata": {
    "collapsed": true
   },
   "outputs": [
    {
     "data": {
      "image/png": "[encoded data removed]",
      "text/plain": [
       "<Figure size 432x288 with 1 Axes>"
      ]
     },
     "metadata": {
      "needs_background": "light"
     },
     "output_type": "display_data"
    }
   ],
   "source": [
    "plt.scatter(x, y)\n",
    "plt.grid()\n",
    "\n",
    "plt.show()"
   ]
  },
  {
   "cell_type": "code",
   "execution_count": null,
   "metadata": {},
   "outputs": [],
   "source": [
    "'''\n",
    "문제 1] 다음 x, y 를 이용하여 최소 제곱법을 적용하여 a 를 구하는 코드를 작성하세요.\n",
    "\n",
    "x = [2, 4, 6, 8]\n",
    "y = [81, 93, 91, 97]\n",
    "\n",
    "a = ((x - x평균) * (y - y평균) 들의 합) / ((x - x평균)^2 들의 합)\n",
    "\n",
    "        a = 2.3\n",
    "'''"
   ]
  },
  {
   "cell_type": "code",
   "execution_count": 4,
   "metadata": {},
   "outputs": [],
   "source": [
    "X = np.array([2, 4, 6, 8])\n",
    "Y = np.array([81, 93, 91, 97])"
   ]
  },
  {
   "cell_type": "code",
   "execution_count": 18,
   "metadata": {},
   "outputs": [
    {
     "name": "stdout",
     "output_type": "stream",
     "text": [
      "a: 2.3\n"
     ]
    }
   ],
   "source": [
    "a = ((X - X.mean()) * (Y - Y.mean())).sum() / ((X - X.mean()) ** 2).sum()\n",
    "print('a:', a)"
   ]
  },
  {
   "cell_type": "code",
   "execution_count": null,
   "metadata": {},
   "outputs": [],
   "source": [
    "'''\n",
    "문제 2] 앞의 문제를 이용하여 b 와 예측값(Y_pred)을 구하는 코드를 작성하세요.\n",
    "\n",
    "b = y의 평균 - (x의 평균 x 기울기a)\n",
    "\n",
    "    b = 79\n",
    "'''"
   ]
  },
  {
   "cell_type": "code",
   "execution_count": 20,
   "metadata": {},
   "outputs": [
    {
     "name": "stdout",
     "output_type": "stream",
     "text": [
      "b: 79.0\n",
      "Y_pred: [83.6 88.2 92.8 97.4]\n"
     ]
    }
   ],
   "source": [
    "b = Y.mean() - (X.mean() * a)\n",
    "Y_pred = a * X + b\n",
    "\n",
    "print('b:', b)\n",
    "print('Y_pred:', Y_pred)"
   ]
  },
  {
   "cell_type": "code",
   "execution_count": null,
   "metadata": {},
   "outputs": [],
   "source": [
    "'''\n",
    "문제 3] 앞의 문제 결과를 이용하여 다음의 그래프를 그리는 코드를 작성하세요.\n",
    "\n",
    "    1) X, Y 의 산점도 그래프\n",
    "    2) X, Y_pred 의 산점도 그래프 그리기\n",
    "    3) X, Y_pred 의 선 그래프 그리기\n",
    "'''"
   ]
  },
  {
   "cell_type": "code",
   "execution_count": 23,
   "metadata": {
    "collapsed": true
   },
   "outputs": [
    {
     "data": {
      "image/png": "[encoded data removed]",
      "text/plain": [
       "<Figure size 432x288 with 1 Axes>"
      ]
     },
     "metadata": {
      "needs_background": "light"
     },
     "output_type": "display_data"
    }
   ],
   "source": [
    "plt.scatter(X, Y)\n",
    "plt.scatter(X, Y_pred)\n",
    "plt.plot(X, Y_pred)\n",
    "plt.grid()\n",
    "\n",
    "plt.show()"
   ]
  },
  {
   "cell_type": "code",
   "execution_count": null,
   "metadata": {},
   "outputs": [],
   "source": [
    "'''\n",
    "문제 4] 다음의 x, y, a, b 를 이용하여 예측값(Y_pred)과 평균 제곱 오차를 구하여 출력하는 코드를 작성하세요.\n",
    "\n",
    "x = [2, 4, 6, 8]\n",
    "y = [81, 93, 91, 97]\n",
    "a = 3, b = 76\n",
    "\n",
    "'''"
   ]
  },
  {
   "cell_type": "code",
   "execution_count": 24,
   "metadata": {},
   "outputs": [
    {
     "name": "stdout",
     "output_type": "stream",
     "text": [
      "MSE: 11.0\n",
      "Y_pred: [ 82  88  94 100]\n"
     ]
    }
   ],
   "source": [
    "X = np.array([2, 4, 6, 8])\n",
    "Y = np.array([81, 93, 91, 97])\n",
    "a = 3\n",
    "b = 76\n",
    "\n",
    "Y_pred = a * X + b\n",
    "MSE = ((Y - Y_pred) ** 2).mean()\n",
    "\n",
    "print('MSE:', MSE)\n",
    "print('Y_pred:', Y_pred)"
   ]
  },
  {
   "cell_type": "code",
   "execution_count": null,
   "metadata": {},
   "outputs": [],
   "source": [
    "'''\n",
    "문제 5] 앞의 문제4의 결과를 이용하여 다음의 그래프를 그리는 코드를 작성하세요.\n",
    "\n",
    "    1) X, Y 의 산점도 그래프\n",
    "    2) X, Y_pred 의 산점도 그래프 그리기\n",
    "    3) X, Y_pred 의 선 그래프 그리기\n",
    "'''"
   ]
  },
  {
   "cell_type": "code",
   "execution_count": 25,
   "metadata": {
    "collapsed": true
   },
   "outputs": [
    {
     "data": {
      "image/png": "[encoded data removed]",
      "text/plain": [
       "<Figure size 432x288 with 1 Axes>"
      ]
     },
     "metadata": {
      "needs_background": "light"
     },
     "output_type": "display_data"
    }
   ],
   "source": [
    "plt.scatter(X, Y)\n",
    "plt.scatter(X, Y_pred)\n",
    "plt.plot(X, Y_pred)\n",
    "plt.grid()\n",
    "\n",
    "plt.show()"
   ]
  },
  {
   "cell_type": "code",
   "execution_count": null,
   "metadata": {},
   "outputs": [],
   "source": []
  }
 ],
 "metadata": {
  "kernelspec": {
   "display_name": "Python 3",
   "language": "python",
   "name": "python3"
  },
  "language_info": {
   "codemirror_mode": {
    "name": "ipython",
    "version": 3
   },
   "file_extension": ".py",
   "mimetype": "text/x-python",
   "name": "python",
   "nbconvert_exporter": "python",
   "pygments_lexer": "ipython3",
   "version": "3.7.6"
  }
 },
 "nbformat": 4,
 "nbformat_minor": 4
}
