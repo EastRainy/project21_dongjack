{
 "cells": [
  {
   "cell_type": "code",
   "execution_count": 9,
   "metadata": {},
   "outputs": [],
   "source": [
    "import numpy as np\n",
    "import pandas as pd\n",
    "import matplotlib as mpl\n",
    "import matplotlib.pyplot as plt\n",
    "import tensorflow as tf\n",
    "from tensorflow import keras\n",
    "\n",
    "from tensorflow.keras.models import Sequential\n",
    "from tensorflow.keras.layers import Dense"
   ]
  },
  {
   "cell_type": "code",
   "execution_count": 2,
   "metadata": {},
   "outputs": [
    {
     "name": "stdout",
     "output_type": "stream",
     "text": [
      "2.0.0\n",
      "2.2.4-tf\n"
     ]
    }
   ],
   "source": [
    "print(tf.__version__)\n",
    "print(keras.__version__)"
   ]
  },
  {
   "cell_type": "code",
   "execution_count": 3,
   "metadata": {},
   "outputs": [],
   "source": [
    "\n",
    "np.random.seed(1234)\n",
    "tf.random.set_seed(1234)\n",
    "\n",
    "#시드값 고정으로 무작위랜덤은 아님"
   ]
  },
  {
   "cell_type": "code",
   "execution_count": 8,
   "metadata": {
    "scrolled": true
   },
   "outputs": [
    {
     "name": "stdout",
     "output_type": "stream",
     "text": [
      "<class 'numpy.ndarray'> float64 (470, 18)\n"
     ]
    }
   ],
   "source": [
    "dataset = np.loadtxt('../data/ThoraricSurgery.csv', delimiter=',')\n",
    "\n",
    "print(type(dataset), dataset.dtype, dataset.shape)"
   ]
  },
  {
   "cell_type": "code",
   "execution_count": 10,
   "metadata": {},
   "outputs": [],
   "source": [
    "# 기록/수술 결과를 X와 Y로 구분하여 저장\n",
    "\n",
    "#17개 열 분리하여 저장\n",
    "\n",
    "X = dataset[:, 0:17]\n",
    "Y = dataset[:, 17]\n",
    "\n"
   ]
  },
  {
   "cell_type": "code",
   "execution_count": 13,
   "metadata": {},
   "outputs": [],
   "source": [
    "#딥러닝 구조 결정(모델설정)\n",
    "\n",
    "model = Sequential()\n",
    "model.add(Dense(32, input_dim=17, activation='relu'))\n",
    "model.add(Dense(1, activation='sigmoid'))"
   ]
  },
  {
   "cell_type": "code",
   "execution_count": 15,
   "metadata": {},
   "outputs": [
    {
     "name": "stdout",
     "output_type": "stream",
     "text": [
      "Train on 470 samples\n",
      "Epoch 1/100\n",
      "470/470 [==============================] - 0s 740us/sample - loss: 1.6522 - accuracy: 0.8191\n",
      "Epoch 2/100\n",
      "470/470 [==============================] - 0s 70us/sample - loss: 0.5006 - accuracy: 0.8234\n",
      "Epoch 3/100\n",
      "470/470 [==============================] - 0s 68us/sample - loss: 0.4806 - accuracy: 0.8532\n",
      "Epoch 4/100\n",
      "470/470 [==============================] - 0s 66us/sample - loss: 0.4869 - accuracy: 0.8532\n",
      "Epoch 5/100\n",
      "470/470 [==============================] - 0s 66us/sample - loss: 0.4839 - accuracy: 0.8447\n",
      "Epoch 6/100\n",
      "470/470 [==============================] - 0s 65us/sample - loss: 0.4847 - accuracy: 0.8340\n",
      "Epoch 7/100\n",
      "470/470 [==============================] - 0s 66us/sample - loss: 0.4430 - accuracy: 0.8511\n",
      "Epoch 8/100\n",
      "470/470 [==============================] - 0s 68us/sample - loss: 0.4479 - accuracy: 0.8511\n",
      "Epoch 9/100\n",
      "470/470 [==============================] - 0s 66us/sample - loss: 0.4809 - accuracy: 0.8468\n",
      "Epoch 10/100\n",
      "470/470 [==============================] - 0s 66us/sample - loss: 0.4511 - accuracy: 0.8489\n",
      "Epoch 11/100\n",
      "470/470 [==============================] - 0s 68us/sample - loss: 0.4365 - accuracy: 0.8511\n",
      "Epoch 12/100\n",
      "470/470 [==============================] - 0s 70us/sample - loss: 0.4363 - accuracy: 0.8213\n",
      "Epoch 13/100\n",
      "470/470 [==============================] - 0s 68us/sample - loss: 0.4668 - accuracy: 0.8383\n",
      "Epoch 14/100\n",
      "470/470 [==============================] - 0s 68us/sample - loss: 0.4183 - accuracy: 0.8532\n",
      "Epoch 15/100\n",
      "470/470 [==============================] - 0s 70us/sample - loss: 0.4392 - accuracy: 0.8532\n",
      "Epoch 16/100\n",
      "470/470 [==============================] - 0s 68us/sample - loss: 0.4310 - accuracy: 0.8489\n",
      "Epoch 17/100\n",
      "470/470 [==============================] - 0s 68us/sample - loss: 0.4342 - accuracy: 0.8532\n",
      "Epoch 18/100\n",
      "470/470 [==============================] - 0s 69us/sample - loss: 0.4538 - accuracy: 0.8426\n",
      "Epoch 19/100\n",
      "470/470 [==============================] - 0s 70us/sample - loss: 0.4207 - accuracy: 0.8489\n",
      "Epoch 20/100\n",
      "470/470 [==============================] - 0s 66us/sample - loss: 0.4112 - accuracy: 0.8532\n",
      "Epoch 21/100\n",
      "470/470 [==============================] - 0s 66us/sample - loss: 0.4330 - accuracy: 0.8383\n",
      "Epoch 22/100\n",
      "470/470 [==============================] - 0s 68us/sample - loss: 0.4323 - accuracy: 0.8447\n",
      "Epoch 23/100\n",
      "470/470 [==============================] - 0s 66us/sample - loss: 0.4096 - accuracy: 0.8468\n",
      "Epoch 24/100\n",
      "470/470 [==============================] - 0s 70us/sample - loss: 0.4446 - accuracy: 0.8383\n",
      "Epoch 25/100\n",
      "470/470 [==============================] - 0s 72us/sample - loss: 0.4841 - accuracy: 0.8298\n",
      "Epoch 26/100\n",
      "470/470 [==============================] - 0s 72us/sample - loss: 0.4241 - accuracy: 0.8404\n",
      "Epoch 27/100\n",
      "470/470 [==============================] - 0s 74us/sample - loss: 0.4250 - accuracy: 0.8511\n",
      "Epoch 28/100\n",
      "470/470 [==============================] - 0s 67us/sample - loss: 0.4504 - accuracy: 0.8532\n",
      "Epoch 29/100\n",
      "470/470 [==============================] - 0s 66us/sample - loss: 0.4148 - accuracy: 0.8489\n",
      "Epoch 30/100\n",
      "470/470 [==============================] - 0s 65us/sample - loss: 0.4025 - accuracy: 0.8532\n",
      "Epoch 31/100\n",
      "470/470 [==============================] - 0s 68us/sample - loss: 0.4018 - accuracy: 0.8553\n",
      "Epoch 32/100\n",
      "470/470 [==============================] - 0s 69us/sample - loss: 0.4071 - accuracy: 0.8468\n",
      "Epoch 33/100\n",
      "470/470 [==============================] - 0s 67us/sample - loss: 0.4287 - accuracy: 0.8447\n",
      "Epoch 34/100\n",
      "470/470 [==============================] - 0s 70us/sample - loss: 0.4821 - accuracy: 0.8468\n",
      "Epoch 35/100\n",
      "470/470 [==============================] - 0s 68us/sample - loss: 0.4690 - accuracy: 0.8362\n",
      "Epoch 36/100\n",
      "470/470 [==============================] - 0s 68us/sample - loss: 0.4098 - accuracy: 0.8574\n",
      "Epoch 37/100\n",
      "470/470 [==============================] - 0s 69us/sample - loss: 0.4156 - accuracy: 0.8532\n",
      "Epoch 38/100\n",
      "470/470 [==============================] - 0s 69us/sample - loss: 0.4000 - accuracy: 0.8511\n",
      "Epoch 39/100\n",
      "470/470 [==============================] - 0s 68us/sample - loss: 0.4160 - accuracy: 0.8511\n",
      "Epoch 40/100\n",
      "470/470 [==============================] - 0s 67us/sample - loss: 0.4067 - accuracy: 0.8489\n",
      "Epoch 41/100\n",
      "470/470 [==============================] - 0s 69us/sample - loss: 0.4335 - accuracy: 0.8426\n",
      "Epoch 42/100\n",
      "470/470 [==============================] - 0s 72us/sample - loss: 0.4099 - accuracy: 0.8511\n",
      "Epoch 43/100\n",
      "470/470 [==============================] - 0s 68us/sample - loss: 0.4047 - accuracy: 0.8489\n",
      "Epoch 44/100\n",
      "470/470 [==============================] - 0s 66us/sample - loss: 0.3990 - accuracy: 0.8511\n",
      "Epoch 45/100\n",
      "470/470 [==============================] - 0s 67us/sample - loss: 0.3946 - accuracy: 0.8511\n",
      "Epoch 46/100\n",
      "470/470 [==============================] - 0s 65us/sample - loss: 0.4762 - accuracy: 0.8468\n",
      "Epoch 47/100\n",
      "470/470 [==============================] - 0s 83us/sample - loss: 0.4512 - accuracy: 0.8383\n",
      "Epoch 48/100\n",
      "470/470 [==============================] - 0s 68us/sample - loss: 0.4227 - accuracy: 0.8447\n",
      "Epoch 49/100\n",
      "470/470 [==============================] - 0s 75us/sample - loss: 0.3957 - accuracy: 0.8468\n",
      "Epoch 50/100\n",
      "470/470 [==============================] - 0s 71us/sample - loss: 0.4678 - accuracy: 0.8234\n",
      "Epoch 51/100\n",
      "470/470 [==============================] - 0s 72us/sample - loss: 0.3958 - accuracy: 0.8468\n",
      "Epoch 52/100\n",
      "470/470 [==============================] - 0s 75us/sample - loss: 0.4786 - accuracy: 0.8298\n",
      "Epoch 53/100\n",
      "470/470 [==============================] - 0s 72us/sample - loss: 0.4210 - accuracy: 0.8574\n",
      "Epoch 54/100\n",
      "470/470 [==============================] - 0s 73us/sample - loss: 0.4530 - accuracy: 0.8426\n",
      "Epoch 55/100\n",
      "470/470 [==============================] - 0s 72us/sample - loss: 0.3995 - accuracy: 0.8468\n",
      "Epoch 56/100\n",
      "470/470 [==============================] - 0s 77us/sample - loss: 0.4020 - accuracy: 0.8468\n",
      "Epoch 57/100\n",
      "470/470 [==============================] - 0s 75us/sample - loss: 0.4192 - accuracy: 0.8383\n",
      "Epoch 58/100\n",
      "470/470 [==============================] - 0s 76us/sample - loss: 0.3880 - accuracy: 0.8426\n",
      "Epoch 59/100\n",
      "470/470 [==============================] - 0s 70us/sample - loss: 0.3945 - accuracy: 0.8511\n",
      "Epoch 60/100\n",
      "470/470 [==============================] - 0s 71us/sample - loss: 0.3938 - accuracy: 0.8511\n",
      "Epoch 61/100\n",
      "470/470 [==============================] - 0s 72us/sample - loss: 0.4081 - accuracy: 0.8404\n",
      "Epoch 62/100\n",
      "470/470 [==============================] - 0s 74us/sample - loss: 0.4375 - accuracy: 0.8426\n",
      "Epoch 63/100\n",
      "470/470 [==============================] - 0s 66us/sample - loss: 0.4030 - accuracy: 0.8468\n",
      "Epoch 64/100\n",
      "470/470 [==============================] - 0s 69us/sample - loss: 0.4324 - accuracy: 0.8426\n",
      "Epoch 65/100\n",
      "470/470 [==============================] - 0s 65us/sample - loss: 0.3990 - accuracy: 0.8553\n",
      "Epoch 66/100\n",
      "470/470 [==============================] - 0s 70us/sample - loss: 0.4082 - accuracy: 0.8532\n",
      "Epoch 67/100\n",
      "470/470 [==============================] - 0s 64us/sample - loss: 0.4425 - accuracy: 0.8468\n",
      "Epoch 68/100\n",
      "470/470 [==============================] - 0s 66us/sample - loss: 0.3971 - accuracy: 0.8511\n",
      "Epoch 69/100\n",
      "470/470 [==============================] - 0s 70us/sample - loss: 0.4008 - accuracy: 0.8553\n",
      "Epoch 70/100\n",
      "470/470 [==============================] - 0s 73us/sample - loss: 0.4065 - accuracy: 0.8468\n",
      "Epoch 71/100\n",
      "470/470 [==============================] - 0s 71us/sample - loss: 0.4000 - accuracy: 0.8489\n",
      "Epoch 72/100\n",
      "470/470 [==============================] - 0s 67us/sample - loss: 0.4079 - accuracy: 0.8426\n",
      "Epoch 73/100\n",
      "470/470 [==============================] - 0s 70us/sample - loss: 0.4070 - accuracy: 0.8404\n",
      "Epoch 74/100\n",
      "470/470 [==============================] - 0s 75us/sample - loss: 0.4444 - accuracy: 0.8404\n",
      "Epoch 75/100\n",
      "470/470 [==============================] - 0s 69us/sample - loss: 0.4494 - accuracy: 0.8447\n",
      "Epoch 76/100\n",
      "470/470 [==============================] - 0s 74us/sample - loss: 0.3874 - accuracy: 0.8447\n",
      "Epoch 77/100\n",
      "470/470 [==============================] - 0s 74us/sample - loss: 0.3953 - accuracy: 0.8532\n",
      "Epoch 78/100\n"
     ]
    },
    {
     "name": "stdout",
     "output_type": "stream",
     "text": [
      "470/470 [==============================] - 0s 72us/sample - loss: 0.4031 - accuracy: 0.8511\n",
      "Epoch 79/100\n",
      "470/470 [==============================] - 0s 67us/sample - loss: 0.4029 - accuracy: 0.8553\n",
      "Epoch 80/100\n",
      "470/470 [==============================] - 0s 66us/sample - loss: 0.4079 - accuracy: 0.8468\n",
      "Epoch 81/100\n",
      "470/470 [==============================] - 0s 66us/sample - loss: 0.3856 - accuracy: 0.8489\n",
      "Epoch 82/100\n",
      "470/470 [==============================] - 0s 68us/sample - loss: 0.4179 - accuracy: 0.8447\n",
      "Epoch 83/100\n",
      "470/470 [==============================] - 0s 72us/sample - loss: 0.3976 - accuracy: 0.8489\n",
      "Epoch 84/100\n",
      "470/470 [==============================] - 0s 76us/sample - loss: 0.4075 - accuracy: 0.8511\n",
      "Epoch 85/100\n",
      "470/470 [==============================] - 0s 67us/sample - loss: 0.4385 - accuracy: 0.8298\n",
      "Epoch 86/100\n",
      "470/470 [==============================] - 0s 63us/sample - loss: 0.3924 - accuracy: 0.8489\n",
      "Epoch 87/100\n",
      "470/470 [==============================] - 0s 66us/sample - loss: 0.4034 - accuracy: 0.8426\n",
      "Epoch 88/100\n",
      "470/470 [==============================] - 0s 64us/sample - loss: 0.4020 - accuracy: 0.8447\n",
      "Epoch 89/100\n",
      "470/470 [==============================] - 0s 72us/sample - loss: 0.4723 - accuracy: 0.8213\n",
      "Epoch 90/100\n",
      "470/470 [==============================] - 0s 67us/sample - loss: 0.4301 - accuracy: 0.8532\n",
      "Epoch 91/100\n",
      "470/470 [==============================] - 0s 68us/sample - loss: 0.3877 - accuracy: 0.8532\n",
      "Epoch 92/100\n",
      "470/470 [==============================] - 0s 70us/sample - loss: 0.3947 - accuracy: 0.8532\n",
      "Epoch 93/100\n",
      "470/470 [==============================] - 0s 68us/sample - loss: 0.4038 - accuracy: 0.8489\n",
      "Epoch 94/100\n",
      "470/470 [==============================] - 0s 70us/sample - loss: 0.3984 - accuracy: 0.8426\n",
      "Epoch 95/100\n",
      "470/470 [==============================] - 0s 68us/sample - loss: 0.3935 - accuracy: 0.8532\n",
      "Epoch 96/100\n",
      "470/470 [==============================] - 0s 64us/sample - loss: 0.3896 - accuracy: 0.8596\n",
      "Epoch 97/100\n",
      "470/470 [==============================] - 0s 66us/sample - loss: 0.3896 - accuracy: 0.8489\n",
      "Epoch 98/100\n",
      "470/470 [==============================] - 0s 66us/sample - loss: 0.4063 - accuracy: 0.8553\n",
      "Epoch 99/100\n",
      "470/470 [==============================] - 0s 68us/sample - loss: 0.3886 - accuracy: 0.8511\n",
      "Epoch 100/100\n",
      "470/470 [==============================] - 0s 69us/sample - loss: 0.4004 - accuracy: 0.8447\n"
     ]
    },
    {
     "data": {
      "text/plain": [
       "<tensorflow.python.keras.callbacks.History at 0x120c937ff48>"
      ]
     },
     "execution_count": 15,
     "metadata": {},
     "output_type": "execute_result"
    }
   ],
   "source": [
    "#딥러닝 실행\n",
    "\n",
    "model.compile(loss='binary_crossentropy', optimizer='adam', metrics=['accuracy'])\n",
    "model.fit(X,Y, epochs=100, batch_size=10)"
   ]
  },
  {
   "cell_type": "code",
   "execution_count": null,
   "metadata": {},
   "outputs": [],
   "source": []
  },
  {
   "cell_type": "code",
   "execution_count": null,
   "metadata": {},
   "outputs": [],
   "source": []
  }
 ],
 "metadata": {
  "kernelspec": {
   "display_name": "Python 3",
   "language": "python",
   "name": "python3"
  },
  "language_info": {
   "codemirror_mode": {
    "name": "ipython",
    "version": 3
   },
   "file_extension": ".py",
   "mimetype": "text/x-python",
   "name": "python",
   "nbconvert_exporter": "python",
   "pygments_lexer": "ipython3",
   "version": "3.7.6"
  }
 },
 "nbformat": 4,
 "nbformat_minor": 4
}
