{
 "cells": [
  {
   "cell_type": "code",
   "execution_count": 12,
   "metadata": {},
   "outputs": [
    {
     "name": "stdout",
     "output_type": "stream",
     "text": [
      "금액을 입력하세요7777\n",
      "500 : 15, 100 : 2, 50 : 1, 10 : 2, rest : 7\n"
     ]
    }
   ],
   "source": [
    "\n",
    "\n",
    "money = input(\"금액을 입력하세요\")\n",
    "\n",
    "money = (int)(money)\n",
    "\n",
    "h5 = money//500\n",
    "money = money - h5*500\n",
    "h1 = money//100\n",
    "money = money - h1*100\n",
    "t5 = money//50\n",
    "money = money - t5*50\n",
    "t1 = money//10\n",
    "rest = money-t1*10\n",
    "\n",
    "print(\"500 : \" + (str)(h5) + \", 100 : \" + (str)(h1) + \", 50 : \"+(str)(t5)+\", 10 : \" +(str)(t1)+ \", rest : \"+(str)(rest))\n"
   ]
  },
  {
   "cell_type": "code",
   "execution_count": null,
   "metadata": {},
   "outputs": [],
   "source": []
  }
 ],
 "metadata": {
  "kernelspec": {
   "display_name": "Python 3",
   "language": "python",
   "name": "python3"
  },
  "language_info": {
   "codemirror_mode": {
    "name": "ipython",
    "version": 3
   },
   "file_extension": ".py",
   "mimetype": "text/x-python",
   "name": "python",
   "nbconvert_exporter": "python",
   "pygments_lexer": "ipython3",
   "version": "3.7.6"
  }
 },
 "nbformat": 4,
 "nbformat_minor": 4
}
