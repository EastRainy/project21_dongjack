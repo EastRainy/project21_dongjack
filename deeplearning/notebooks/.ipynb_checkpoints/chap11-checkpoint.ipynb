{
 "cells": [
  {
   "cell_type": "code",
   "execution_count": 74,
   "metadata": {},
   "outputs": [
    {
     "data": {
      "text/plain": [
       "[[1, 2, 3], [4, 5, 6], [7, 8, 9]]"
      ]
     },
     "execution_count": 74,
     "metadata": {},
     "output_type": "execute_result"
    }
   ],
   "source": [
    "lst=[[1,2,3],[4,5,6],[7,8,9]]\n",
    "lst"
   ]
  },
  {
   "cell_type": "code",
   "execution_count": 103,
   "metadata": {},
   "outputs": [],
   "source": [
    "import numpy as np"
   ]
  },
  {
   "cell_type": "code",
   "execution_count": 17,
   "metadata": {},
   "outputs": [
    {
     "name": "stdout",
     "output_type": "stream",
     "text": [
      "1 2 3 \n",
      "4 5 6 \n",
      "7 8 9 \n",
      "1 2 3 \n",
      "4 5 6 \n",
      "7 8 9 \n"
     ]
    }
   ],
   "source": [
    "\n",
    "for sub_lst in lst:\n",
    "    for val in sub_lst:\n",
    "        print(val, end=' ')\n",
    "    print()\n",
    "    \n",
    "#컨테이너 기반 = 복사해 가져와서 val을 변경한다고 lst의 값이 변하지는 않음\n",
    "    \n",
    "for i in range(len(lst)):\n",
    "    for j in range(len(lst[i])):\n",
    "        print(lst[i][j], end=' ')\n",
    "    print()\n",
    "\n",
    "#인덱스 기반"
   ]
  },
  {
   "cell_type": "code",
   "execution_count": 20,
   "metadata": {},
   "outputs": [
    {
     "name": "stdout",
     "output_type": "stream",
     "text": [
      "1 4 9 \n",
      "16 25 36 \n",
      "49 64 81 \n"
     ]
    }
   ],
   "source": [
    "\n",
    "for i in range(len(lst)):\n",
    "    for j in range(len(lst[i])):\n",
    "        lst[i][j] = lst[i][j] * lst[i][j]\n",
    "        print(lst[i][j], end=' ')\n",
    "    print()\n"
   ]
  },
  {
   "cell_type": "code",
   "execution_count": 28,
   "metadata": {},
   "outputs": [
    {
     "ename": "SyntaxError",
     "evalue": "invalid syntax (<ipython-input-28-b92ab0f5bf0e>, line 1)",
     "output_type": "error",
     "traceback": [
      "\u001b[1;36m  File \u001b[1;32m\"<ipython-input-28-b92ab0f5bf0e>\"\u001b[1;36m, line \u001b[1;32m1\u001b[0m\n\u001b[1;33m    (str)lst\u001b[0m\n\u001b[1;37m           ^\u001b[0m\n\u001b[1;31mSyntaxError\u001b[0m\u001b[1;31m:\u001b[0m invalid syntax\n"
     ]
    }
   ],
   "source": [
    "lst"
   ]
  },
  {
   "cell_type": "code",
   "execution_count": 75,
   "metadata": {},
   "outputs": [],
   "source": [
    "'''\n",
    "파일 입출력\n",
    "PyCode\\data\\1st.csv 파일로 저장\n",
    "\n",
    "\n",
    "'''\n",
    "\n",
    "f = open(\"C:/projects/myPyCode/data/1st.csv\", 'w')\n",
    "\n",
    "s = ''\n",
    "for i in range(len(lst)):\n",
    "    for j in range(len(lst[i])):\n",
    "        if(j<len(lst[i])-1):\n",
    "            s = s+str(lst[i][j])+' '\n",
    "        else:\n",
    "            s = s+str(lst[i][j])\n",
    "    s=s+'\\n'\n",
    "\n",
    "f.write(s)\n",
    "f.close()\n",
    "\n"
   ]
  },
  {
   "cell_type": "code",
   "execution_count": 104,
   "metadata": {
    "scrolled": true
   },
   "outputs": [],
   "source": [
    "\n",
    "f = open(\"C:/projects/myPyCode/data/1st.csv\", 'r')\n",
    "\n",
    "lst2=[]\n",
    "\n",
    "while True:\n",
    "    data = f.readline()\n",
    "    if not data: break\n",
    "        \n",
    "    data2 = data.split(' ')\n",
    "    tmp=[]\n",
    "    for i in range(len(data2)):\n",
    "        for j in range(len(data2[i])):       \n",
    "            if data2[i][j]!='\\n':\n",
    "                tmp.append(int(data2[i][j]))\n",
    "    lst2.append(tmp)\n",
    "\n",
    "f.close()\n",
    "\n",
    "for i in range(len(lst2)):\n",
    "    for j in range(len(lst2[i])):\n",
    "        lst2[i][j] **= 2\n",
    "\n",
    "f = open(\"C:/projects/myPyCode/data/2st.csv\", 'w')\n",
    "\n",
    "s = ''\n",
    "for i in range(len(lst2)):\n",
    "    for j in range(len(lst2[i])):\n",
    "        if(j<len(lst2[i])-1):\n",
    "            s = s+str(lst2[i][j])+' '\n",
    "        else:\n",
    "            s = s+str(lst2[i][j])\n",
    "    s=s+'\\n'\n",
    "\n",
    "f.write(s)\n",
    "f.close()"
   ]
  },
  {
   "cell_type": "code",
   "execution_count": 107,
   "metadata": {},
   "outputs": [
    {
     "name": "stdout",
     "output_type": "stream",
     "text": [
      "<class 'numpy.ndarray'> [1 2 3 4 5]\n"
     ]
    }
   ],
   "source": [
    "lst1 = [1,2,3,4,5]\n",
    "arr1 = np.array(lst1)\n",
    "print(type(arr1), arr1)\n",
    "\n"
   ]
  }
 ],
 "metadata": {
  "kernelspec": {
   "display_name": "Python 3",
   "language": "python",
   "name": "python3"
  },
  "language_info": {
   "codemirror_mode": {
    "name": "ipython",
    "version": 3
   },
   "file_extension": ".py",
   "mimetype": "text/x-python",
   "name": "python",
   "nbconvert_exporter": "python",
   "pygments_lexer": "ipython3",
   "version": "3.7.6"
  }
 },
 "nbformat": 4,
 "nbformat_minor": 4
}
