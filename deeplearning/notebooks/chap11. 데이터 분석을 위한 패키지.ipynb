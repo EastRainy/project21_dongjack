{
 "cells": [
  {
   "cell_type": "code",
   "execution_count": 29,
   "metadata": {},
   "outputs": [],
   "source": [
    "import numpy as np"
   ]
  },
  {
   "cell_type": "code",
   "execution_count": null,
   "metadata": {},
   "outputs": [],
   "source": [
    "lst = [[1, 2, 3], [4, 5, 6], [7, 8, 9]]\n",
    "lst"
   ]
  },
  {
   "cell_type": "code",
   "execution_count": null,
   "metadata": {},
   "outputs": [],
   "source": [
    "'''\n",
    "lst 리스트에 저장된 값을 다음과 같이 출력하는 코드를 작성하세요.\n",
    "\n",
    "1 2 3\n",
    "4 5 6\n",
    "7 8 9\n",
    "'''"
   ]
  },
  {
   "cell_type": "code",
   "execution_count": 4,
   "metadata": {},
   "outputs": [
    {
     "name": "stdout",
     "output_type": "stream",
     "text": [
      "1 2 3 \n",
      "4 5 6 \n",
      "7 8 9 \n"
     ]
    }
   ],
   "source": [
    "for sub_lst in lst:\n",
    "    for val in sub_lst:\n",
    "        print(val, end=' ')\n",
    "        \n",
    "    print()"
   ]
  },
  {
   "cell_type": "code",
   "execution_count": 6,
   "metadata": {},
   "outputs": [
    {
     "name": "stdout",
     "output_type": "stream",
     "text": [
      "1 2 3 \n",
      "4 5 6 \n",
      "7 8 9 \n"
     ]
    }
   ],
   "source": [
    "for i in range(len(lst)):\n",
    "    for j in range(len(lst[i])):\n",
    "        print(lst[i][j], end=' ')\n",
    "        \n",
    "    print()"
   ]
  },
  {
   "cell_type": "code",
   "execution_count": null,
   "metadata": {},
   "outputs": [],
   "source": [
    "'''\n",
    "lst 리스트에 저장된 모든 값을 제곱한 후 다음과 같이 출력하는 코드를 작성하세요.\n",
    "단, 원래 리스트의 내용이 제곱된 값으로 변경되어야 합니다.\n",
    "\n",
    " 1  4  9\n",
    "16 25 36\n",
    "49 64 81\n",
    "'''"
   ]
  },
  {
   "cell_type": "code",
   "execution_count": 9,
   "metadata": {},
   "outputs": [
    {
     "name": "stdout",
     "output_type": "stream",
     "text": [
      " 1  4  9 \n",
      "16 25 36 \n",
      "49 64 81 \n"
     ]
    }
   ],
   "source": [
    "lst = [[1, 2, 3], [4, 5, 6], [7, 8, 9]]\n",
    "\n",
    "for i in range(len(lst)):\n",
    "    for j in range(len(lst[i])):\n",
    "        lst[i][j] **= 2\n",
    "        print('%2d' % (lst[i][j]), end=' ')\n",
    "        \n",
    "    print()"
   ]
  },
  {
   "cell_type": "code",
   "execution_count": 10,
   "metadata": {},
   "outputs": [
    {
     "data": {
      "text/plain": [
       "[[1, 4, 9], [16, 25, 36], [49, 64, 81]]"
      ]
     },
     "execution_count": 10,
     "metadata": {},
     "output_type": "execute_result"
    }
   ],
   "source": [
    "lst"
   ]
  },
  {
   "cell_type": "code",
   "execution_count": 11,
   "metadata": {},
   "outputs": [
    {
     "data": {
      "text/plain": [
       "[[1, 4, 9], 'Apple', [49, 64, 81]]"
      ]
     },
     "execution_count": 11,
     "metadata": {},
     "output_type": "execute_result"
    }
   ],
   "source": [
    "lst[1] = 'Apple'\n",
    "lst"
   ]
  },
  {
   "cell_type": "code",
   "execution_count": null,
   "metadata": {},
   "outputs": [],
   "source": [
    "'''\n",
    "1. 다음 리스트의 내용을 C:\\projects\\myPyCode\\data\\lst.csv 파일로 저장하는 코드를 작성하세요.\n",
    "\n",
    "lst = [[1, 2, 3], [4, 5, 6], [7, 8, 9]]\n",
    "\n",
    "[lst.csv]\n",
    "1,2,3\n",
    "4,5,6\n",
    "7,8,9\n",
    "\n",
    "2. lst.csv 파일을 읽어 각 값을 제곱하여 lst2 리스트로 저장한 후 출력하는 코드를 작성하세요.\n",
    "lst2 => [[1, 4, 9], [16, 25, 36], [49, 64, 81]]\n",
    "\n",
    " 1  4  9 \n",
    "16 25 36 \n",
    "49 64 81\n",
    "'''"
   ]
  },
  {
   "cell_type": "code",
   "execution_count": 14,
   "metadata": {},
   "outputs": [],
   "source": [
    "lst = [[1, 2, 3], [4, 5, 6], [7, 8, 9]]\n",
    "\n",
    "f = open('../data/lst.csv', 'wt')\n",
    "\n",
    "for i in range(len(lst)):\n",
    "    for j in range(len(lst[i])):\n",
    "        if j < (len(lst[i]) - 1):\n",
    "            f.write(str(lst[i][j]) + ',')\n",
    "        else:\n",
    "            f.write(str(lst[i][j]))\n",
    "        \n",
    "    f.write('\\n')\n",
    "    \n",
    "f.close()"
   ]
  },
  {
   "cell_type": "code",
   "execution_count": 23,
   "metadata": {
    "collapsed": true
   },
   "outputs": [
    {
     "name": "stdout",
     "output_type": "stream",
     "text": [
      " 1  4  9 \n",
      "16 25 36 \n",
      "49 64 81 \n",
      "[[1, 4, 9], [16, 25, 36], [49, 64, 81]]\n"
     ]
    }
   ],
   "source": [
    "f = open('../data/lst.csv', 'rt')\n",
    "lst2 = f.readlines()\n",
    "f.close()\n",
    "\n",
    "for i in range(len(lst2)):\n",
    "    lst2[i] = lst2[i].split()[0].split(',')\n",
    "    \n",
    "    for j in range(len(lst2[i])):\n",
    "        lst2[i][j] = int(lst2[i][j])\n",
    "        lst2[i][j] **= 2\n",
    "        \n",
    "        print('%2d' % (lst2[i][j]), end=' ')\n",
    "        \n",
    "    print()\n",
    "    \n",
    "print(lst2)"
   ]
  },
  {
   "cell_type": "code",
   "execution_count": 32,
   "metadata": {},
   "outputs": [
    {
     "name": "stdout",
     "output_type": "stream",
     "text": [
      "<class 'numpy.ndarray'> [1 2 3 4 5]\n"
     ]
    },
    {
     "data": {
      "text/plain": [
       "array([1, 2, 3, 4, 5])"
      ]
     },
     "execution_count": 32,
     "metadata": {},
     "output_type": "execute_result"
    }
   ],
   "source": [
    "lst1 = [1, 2, 3, 4, 5]\n",
    "\n",
    "arr1 = np.array(lst1)\n",
    "\n",
    "print(type(arr1), arr1)\n",
    "arr1"
   ]
  },
  {
   "cell_type": "code",
   "execution_count": 33,
   "metadata": {},
   "outputs": [
    {
     "name": "stdout",
     "output_type": "stream",
     "text": [
      "<class 'float'> <class 'float'> <class 'float'>\n"
     ]
    }
   ],
   "source": [
    "print(type(3.4), type(3.), type(.4))"
   ]
  },
  {
   "cell_type": "code",
   "execution_count": 34,
   "metadata": {},
   "outputs": [
    {
     "data": {
      "text/plain": [
       "array([0.1, 2. , 3. , 4. , 0.5])"
      ]
     },
     "execution_count": 34,
     "metadata": {},
     "output_type": "execute_result"
    }
   ],
   "source": [
    "lst2 = [0.1, 2, 3, 4, 0.5]\n",
    "\n",
    "arr2 = np.array(lst2)\n",
    "\n",
    "arr2"
   ]
  },
  {
   "cell_type": "code",
   "execution_count": null,
   "metadata": {},
   "outputs": [],
   "source": []
  }
 ],
 "metadata": {
  "kernelspec": {
   "display_name": "Python 3",
   "language": "python",
   "name": "python3"
  },
  "language_info": {
   "codemirror_mode": {
    "name": "ipython",
    "version": 3
   },
   "file_extension": ".py",
   "mimetype": "text/x-python",
   "name": "python",
   "nbconvert_exporter": "python",
   "pygments_lexer": "ipython3",
   "version": "3.7.6"
  }
 },
 "nbformat": 4,
 "nbformat_minor": 4
}
